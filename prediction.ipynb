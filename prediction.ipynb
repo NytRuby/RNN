{
 "cells": [
  {
   "cell_type": "code",
   "execution_count": 2,
   "id": "5ccd0103",
   "metadata": {},
   "outputs": [],
   "source": [
    "# Step 1\n",
    "\n",
    "import numpy as np\n",
    "import tensorflow as tf\n",
    "from tensorflow.keras.datasets import imdb\n",
    "from tensorflow.keras.preprocessing import sequence\n",
    "from tensorflow.keras.models import load_model, Sequential"
   ]
  },
  {
   "cell_type": "code",
   "execution_count": 3,
   "id": "68e1b306",
   "metadata": {},
   "outputs": [],
   "source": [
    "## Load the IMDB dataset word index\n",
    "word_index = imdb.get_word_index()\n",
    "reverse_word_index = {value: key for key, value in word_index.items()}"
   ]
  },
  {
   "cell_type": "code",
   "execution_count": 19,
   "id": "f0ce322b",
   "metadata": {},
   "outputs": [
    {
     "name": "stderr",
     "output_type": "stream",
     "text": [
      "WARNING:absl:Compiled the loaded model, but the compiled metrics have yet to be built. `model.compile_metrics` will be empty until you train or evaluate the model.\n"
     ]
    },
    {
     "data": {
      "text/html": [
       "<pre style=\"white-space:pre;overflow-x:auto;line-height:normal;font-family:Menlo,'DejaVu Sans Mono',consolas,'Courier New',monospace\"><span style=\"font-weight: bold\">Model: \"sequential_1\"</span>\n",
       "</pre>\n"
      ],
      "text/plain": [
       "\u001b[1mModel: \"sequential_1\"\u001b[0m\n"
      ]
     },
     "metadata": {},
     "output_type": "display_data"
    },
    {
     "data": {
      "text/html": [
       "<pre style=\"white-space:pre;overflow-x:auto;line-height:normal;font-family:Menlo,'DejaVu Sans Mono',consolas,'Courier New',monospace\">┏━━━━━━━━━━━━━━━━━━━━━━━━━━━━━━━━━┳━━━━━━━━━━━━━━━━━━━━━━━━┳━━━━━━━━━━━━━━━┓\n",
       "┃<span style=\"font-weight: bold\"> Layer (type)                    </span>┃<span style=\"font-weight: bold\"> Output Shape           </span>┃<span style=\"font-weight: bold\">       Param # </span>┃\n",
       "┡━━━━━━━━━━━━━━━━━━━━━━━━━━━━━━━━━╇━━━━━━━━━━━━━━━━━━━━━━━━╇━━━━━━━━━━━━━━━┩\n",
       "│ embedding_1 (<span style=\"color: #0087ff; text-decoration-color: #0087ff\">Embedding</span>)         │ (<span style=\"color: #00af00; text-decoration-color: #00af00\">32</span>, <span style=\"color: #00af00; text-decoration-color: #00af00\">500</span>, <span style=\"color: #00af00; text-decoration-color: #00af00\">128</span>)         │     <span style=\"color: #00af00; text-decoration-color: #00af00\">1,280,000</span> │\n",
       "├─────────────────────────────────┼────────────────────────┼───────────────┤\n",
       "│ simple_rnn_1 (<span style=\"color: #0087ff; text-decoration-color: #0087ff\">SimpleRNN</span>)        │ (<span style=\"color: #00af00; text-decoration-color: #00af00\">32</span>, <span style=\"color: #00af00; text-decoration-color: #00af00\">128</span>)              │        <span style=\"color: #00af00; text-decoration-color: #00af00\">32,896</span> │\n",
       "├─────────────────────────────────┼────────────────────────┼───────────────┤\n",
       "│ dense_1 (<span style=\"color: #0087ff; text-decoration-color: #0087ff\">Dense</span>)                 │ (<span style=\"color: #00af00; text-decoration-color: #00af00\">32</span>, <span style=\"color: #00af00; text-decoration-color: #00af00\">1</span>)                │           <span style=\"color: #00af00; text-decoration-color: #00af00\">129</span> │\n",
       "└─────────────────────────────────┴────────────────────────┴───────────────┘\n",
       "</pre>\n"
      ],
      "text/plain": [
       "┏━━━━━━━━━━━━━━━━━━━━━━━━━━━━━━━━━┳━━━━━━━━━━━━━━━━━━━━━━━━┳━━━━━━━━━━━━━━━┓\n",
       "┃\u001b[1m \u001b[0m\u001b[1mLayer (type)                   \u001b[0m\u001b[1m \u001b[0m┃\u001b[1m \u001b[0m\u001b[1mOutput Shape          \u001b[0m\u001b[1m \u001b[0m┃\u001b[1m \u001b[0m\u001b[1m      Param #\u001b[0m\u001b[1m \u001b[0m┃\n",
       "┡━━━━━━━━━━━━━━━━━━━━━━━━━━━━━━━━━╇━━━━━━━━━━━━━━━━━━━━━━━━╇━━━━━━━━━━━━━━━┩\n",
       "│ embedding_1 (\u001b[38;5;33mEmbedding\u001b[0m)         │ (\u001b[38;5;34m32\u001b[0m, \u001b[38;5;34m500\u001b[0m, \u001b[38;5;34m128\u001b[0m)         │     \u001b[38;5;34m1,280,000\u001b[0m │\n",
       "├─────────────────────────────────┼────────────────────────┼───────────────┤\n",
       "│ simple_rnn_1 (\u001b[38;5;33mSimpleRNN\u001b[0m)        │ (\u001b[38;5;34m32\u001b[0m, \u001b[38;5;34m128\u001b[0m)              │        \u001b[38;5;34m32,896\u001b[0m │\n",
       "├─────────────────────────────────┼────────────────────────┼───────────────┤\n",
       "│ dense_1 (\u001b[38;5;33mDense\u001b[0m)                 │ (\u001b[38;5;34m32\u001b[0m, \u001b[38;5;34m1\u001b[0m)                │           \u001b[38;5;34m129\u001b[0m │\n",
       "└─────────────────────────────────┴────────────────────────┴───────────────┘\n"
      ]
     },
     "metadata": {},
     "output_type": "display_data"
    },
    {
     "data": {
      "text/html": [
       "<pre style=\"white-space:pre;overflow-x:auto;line-height:normal;font-family:Menlo,'DejaVu Sans Mono',consolas,'Courier New',monospace\"><span style=\"font-weight: bold\"> Total params: </span><span style=\"color: #00af00; text-decoration-color: #00af00\">1,313,027</span> (5.01 MB)\n",
       "</pre>\n"
      ],
      "text/plain": [
       "\u001b[1m Total params: \u001b[0m\u001b[38;5;34m1,313,027\u001b[0m (5.01 MB)\n"
      ]
     },
     "metadata": {},
     "output_type": "display_data"
    },
    {
     "data": {
      "text/html": [
       "<pre style=\"white-space:pre;overflow-x:auto;line-height:normal;font-family:Menlo,'DejaVu Sans Mono',consolas,'Courier New',monospace\"><span style=\"font-weight: bold\"> Trainable params: </span><span style=\"color: #00af00; text-decoration-color: #00af00\">1,313,025</span> (5.01 MB)\n",
       "</pre>\n"
      ],
      "text/plain": [
       "\u001b[1m Trainable params: \u001b[0m\u001b[38;5;34m1,313,025\u001b[0m (5.01 MB)\n"
      ]
     },
     "metadata": {},
     "output_type": "display_data"
    },
    {
     "data": {
      "text/html": [
       "<pre style=\"white-space:pre;overflow-x:auto;line-height:normal;font-family:Menlo,'DejaVu Sans Mono',consolas,'Courier New',monospace\"><span style=\"font-weight: bold\"> Non-trainable params: </span><span style=\"color: #00af00; text-decoration-color: #00af00\">0</span> (0.00 B)\n",
       "</pre>\n"
      ],
      "text/plain": [
       "\u001b[1m Non-trainable params: \u001b[0m\u001b[38;5;34m0\u001b[0m (0.00 B)\n"
      ]
     },
     "metadata": {},
     "output_type": "display_data"
    },
    {
     "data": {
      "text/html": [
       "<pre style=\"white-space:pre;overflow-x:auto;line-height:normal;font-family:Menlo,'DejaVu Sans Mono',consolas,'Courier New',monospace\"><span style=\"font-weight: bold\"> Optimizer params: </span><span style=\"color: #00af00; text-decoration-color: #00af00\">2</span> (12.00 B)\n",
       "</pre>\n"
      ],
      "text/plain": [
       "\u001b[1m Optimizer params: \u001b[0m\u001b[38;5;34m2\u001b[0m (12.00 B)\n"
      ]
     },
     "metadata": {},
     "output_type": "display_data"
    }
   ],
   "source": [
    "## Load the pre-trained model with ReLu activation\n",
    "model = load_model('simple_rnn_imdb.h5')\n",
    "model.summary()"
   ]
  },
  {
   "cell_type": "code",
   "execution_count": 20,
   "id": "31c178aa",
   "metadata": {},
   "outputs": [
    {
     "data": {
      "text/plain": [
       "[array([[ 4.95688587e-01,  6.23115480e-01, -1.40959173e-02, ...,\n",
       "         -9.82536301e-02,  5.23066998e-01, -4.89076108e-01],\n",
       "        [-1.71909072e-02,  4.28791605e-02, -2.49976981e-02, ...,\n",
       "         -1.05684502e-02,  4.06931750e-02,  7.38890667e-05],\n",
       "        [-1.93127000e-03, -1.41439214e-02,  2.61690449e-02, ...,\n",
       "          2.23185699e-02, -4.90155723e-03,  9.89515483e-02],\n",
       "        ...,\n",
       "        [ 1.72901768e-02, -1.00284465e-01,  3.99093255e-02, ...,\n",
       "         -9.93947387e-02, -2.57844459e-02, -6.00866340e-02],\n",
       "        [ 8.09679106e-02,  7.39846453e-02,  1.10862125e-02, ...,\n",
       "          3.81451324e-02,  7.85251781e-02, -3.71733755e-02],\n",
       "        [-3.32555026e-02, -5.95133565e-02,  5.76558895e-02, ...,\n",
       "         -8.64761230e-03, -6.27600923e-02, -3.44798528e-02]], dtype=float32),\n",
       " array([[-0.05759182, -0.08491807,  0.15332174, ...,  0.15523128,\n",
       "          0.06877089,  0.07687695],\n",
       "        [-0.04327523,  0.08806974, -0.09444265, ...,  0.11229394,\n",
       "         -0.05258697, -0.09055036],\n",
       "        [ 0.05090089,  0.12901227,  0.04665919, ..., -0.09548618,\n",
       "          0.07973894, -0.03480475],\n",
       "        ...,\n",
       "        [ 0.12017244,  0.05654596,  0.07002496, ...,  0.00496812,\n",
       "          0.083472  , -0.09415997],\n",
       "        [ 0.00850772,  0.05544087, -0.07548353, ...,  0.09286174,\n",
       "          0.20321178, -0.01517317],\n",
       "        [-0.09947443,  0.14102834, -0.0370331 , ...,  0.02590877,\n",
       "          0.00209102,  0.07362041]], dtype=float32),\n",
       " array([[ 0.1238328 ,  0.04544942,  0.04338396, ..., -0.10279192,\n",
       "          0.09539549, -0.09860866],\n",
       "        [ 0.09087592,  0.05354159, -0.06760282, ..., -0.11489442,\n",
       "         -0.10528391,  0.07232496],\n",
       "        [ 0.05432968,  0.0532895 , -0.16977392, ...,  0.01708324,\n",
       "          0.12404746,  0.07189634],\n",
       "        ...,\n",
       "        [-0.09769899,  0.18458603, -0.00801632, ..., -0.02880086,\n",
       "         -0.1393886 , -0.12785845],\n",
       "        [ 0.06999967, -0.04697933, -0.2056081 , ..., -0.05838123,\n",
       "         -0.06686708, -0.0333063 ],\n",
       "        [-0.1286066 ,  0.00931194,  0.01450608, ..., -0.08723617,\n",
       "          0.09157805,  0.13431416]], dtype=float32),\n",
       " array([-9.06865206e-03,  3.34301852e-02, -2.12565009e-02, -1.73777004e-03,\n",
       "         6.89969212e-03, -4.56861854e-02,  1.25545412e-02,  3.69937681e-02,\n",
       "         4.59565176e-03,  9.38813575e-03, -2.18860991e-02,  1.51963867e-02,\n",
       "         1.35638043e-02, -3.97589477e-03, -1.82059463e-02,  2.90203523e-02,\n",
       "        -2.91111991e-02, -5.04468428e-03, -1.97637565e-02, -1.80734806e-02,\n",
       "         7.21952645e-03,  2.42646672e-02,  1.60701815e-02, -1.24758221e-02,\n",
       "         1.04964375e-02,  2.64047701e-02,  7.76701421e-03,  1.93011314e-02,\n",
       "        -1.72819849e-02,  2.03314796e-02,  9.10603814e-03,  2.33230162e-02,\n",
       "         2.52682958e-02, -1.31667908e-02,  2.76340675e-02,  1.26279918e-02,\n",
       "         2.44157575e-02, -6.94891950e-03, -2.00755242e-02,  3.83318290e-02,\n",
       "        -2.79455185e-02, -1.11828037e-02,  1.69645194e-02,  3.60483825e-02,\n",
       "        -1.68605428e-02,  1.80172995e-02, -1.29918726e-02, -6.98553817e-03,\n",
       "        -2.14571599e-02, -2.84492001e-02,  2.16494985e-02, -2.78587360e-02,\n",
       "        -1.04685482e-02, -2.91411486e-03, -4.92729247e-03,  6.30108966e-03,\n",
       "         5.64260827e-03, -7.56913854e-04, -1.58122566e-05,  8.75211600e-03,\n",
       "        -8.46494175e-03,  2.24781726e-02,  2.24554259e-02,  6.08810456e-03,\n",
       "        -8.83325655e-03, -6.10331772e-03, -1.57831125e-02, -1.57102775e-02,\n",
       "        -8.78344383e-03, -1.46768093e-02, -2.03977805e-02,  5.26638282e-03,\n",
       "        -2.23102607e-02,  1.27388514e-04, -1.24669932e-02, -1.95389148e-02,\n",
       "         3.06619424e-03, -1.98164098e-02, -2.94441357e-02, -1.16165793e-02,\n",
       "         1.54226851e-02,  1.58308167e-02,  2.38880236e-02, -1.38191134e-02,\n",
       "        -2.24440247e-02,  1.57822128e-02, -1.26414169e-02, -1.34832866e-03,\n",
       "         9.45719425e-03, -3.02174184e-02, -2.97150272e-03, -1.73523631e-02,\n",
       "        -3.05328723e-02,  3.40214989e-04, -1.49331614e-02,  1.09968111e-02,\n",
       "         2.65974626e-02,  1.49285704e-01,  5.09992533e-04,  1.16134705e-02,\n",
       "         1.14405127e-02, -3.65012255e-03,  1.84348021e-02,  1.14262849e-02,\n",
       "        -3.25475372e-02,  1.37788197e-02, -1.58504192e-02,  2.40728036e-02,\n",
       "         3.17771994e-02, -2.18954012e-02, -1.11173913e-02, -4.46789116e-02,\n",
       "         1.34995664e-02, -1.91999879e-03, -2.15722490e-02, -3.40711474e-02,\n",
       "         3.19063403e-02, -2.18795706e-02, -1.09449401e-02, -7.18585332e-04,\n",
       "        -4.14459314e-03, -4.75835428e-02, -2.09622979e-02, -1.34221381e-02,\n",
       "        -2.47906242e-02, -2.95050628e-02, -3.33938049e-03, -1.56214740e-02],\n",
       "       dtype=float32),\n",
       " array([[ 0.11080249],\n",
       "        [ 0.11101707],\n",
       "        [ 0.02774708],\n",
       "        [-0.02712387],\n",
       "        [-0.0503985 ],\n",
       "        [ 0.25162968],\n",
       "        [ 0.15335248],\n",
       "        [ 0.16128756],\n",
       "        [ 0.02422805],\n",
       "        [ 0.13957806],\n",
       "        [-0.06623375],\n",
       "        [ 0.16476166],\n",
       "        [ 0.21978034],\n",
       "        [-0.02081747],\n",
       "        [ 0.01378693],\n",
       "        [ 0.20786394],\n",
       "        [ 0.07961398],\n",
       "        [-0.2101705 ],\n",
       "        [-0.16650747],\n",
       "        [-0.15299684],\n",
       "        [ 0.7585989 ],\n",
       "        [ 0.1235743 ],\n",
       "        [-0.26501116],\n",
       "        [-0.08326169],\n",
       "        [ 0.1464556 ],\n",
       "        [ 0.20373516],\n",
       "        [-0.547845  ],\n",
       "        [-0.11466105],\n",
       "        [-0.12784244],\n",
       "        [ 0.14969105],\n",
       "        [-0.67582065],\n",
       "        [-0.10378682],\n",
       "        [ 0.2239328 ],\n",
       "        [-0.11222849],\n",
       "        [ 0.2762708 ],\n",
       "        [-0.0068145 ],\n",
       "        [ 0.17154631],\n",
       "        [-0.14762321],\n",
       "        [-0.13485995],\n",
       "        [ 0.17986305],\n",
       "        [-0.33469462],\n",
       "        [-0.217151  ],\n",
       "        [-0.24189655],\n",
       "        [ 0.2433746 ],\n",
       "        [ 0.24270065],\n",
       "        [-0.07076409],\n",
       "        [-0.2137255 ],\n",
       "        [-0.04003166],\n",
       "        [-0.66099316],\n",
       "        [ 0.11915886],\n",
       "        [-0.07603461],\n",
       "        [ 0.4833481 ],\n",
       "        [-0.20591635],\n",
       "        [-0.13577585],\n",
       "        [ 0.02059741],\n",
       "        [-0.1421802 ],\n",
       "        [-0.02336144],\n",
       "        [-0.19655065],\n",
       "        [-0.02315325],\n",
       "        [ 0.27992108],\n",
       "        [-0.5095328 ],\n",
       "        [ 0.12235154],\n",
       "        [ 0.15516502],\n",
       "        [-0.12205097],\n",
       "        [-0.15035419],\n",
       "        [-0.26691985],\n",
       "        [-0.10118891],\n",
       "        [ 0.16592896],\n",
       "        [-0.16366045],\n",
       "        [ 0.5189236 ],\n",
       "        [ 0.34793547],\n",
       "        [ 0.08332621],\n",
       "        [ 0.09439953],\n",
       "        [ 0.05139846],\n",
       "        [-0.7054203 ],\n",
       "        [-0.02825131],\n",
       "        [-0.18172349],\n",
       "        [-0.5602448 ],\n",
       "        [ 0.21198335],\n",
       "        [-0.00130816],\n",
       "        [ 0.15046336],\n",
       "        [ 0.13569102],\n",
       "        [ 0.23343852],\n",
       "        [-0.1890895 ],\n",
       "        [ 0.04491666],\n",
       "        [-0.02443773],\n",
       "        [ 0.16477363],\n",
       "        [ 0.13620767],\n",
       "        [ 0.08513375],\n",
       "        [ 0.15409736],\n",
       "        [-0.22603188],\n",
       "        [-0.1158729 ],\n",
       "        [-0.10465492],\n",
       "        [-0.17696093],\n",
       "        [-0.17357433],\n",
       "        [-0.05593083],\n",
       "        [ 0.1661718 ],\n",
       "        [-0.34000412],\n",
       "        [-0.10339437],\n",
       "        [-0.08614205],\n",
       "        [-0.20939396],\n",
       "        [-0.07750937],\n",
       "        [-0.5603453 ],\n",
       "        [ 0.19664036],\n",
       "        [ 0.02394507],\n",
       "        [-0.2167939 ],\n",
       "        [-0.14687622],\n",
       "        [ 0.22200252],\n",
       "        [ 0.21767892],\n",
       "        [-0.08488942],\n",
       "        [ 0.13173755],\n",
       "        [-0.06938788],\n",
       "        [ 0.1907342 ],\n",
       "        [ 0.16450508],\n",
       "        [ 0.7397959 ],\n",
       "        [-0.05555976],\n",
       "        [ 0.14365049],\n",
       "        [-0.1556313 ],\n",
       "        [-0.06035328],\n",
       "        [-0.12873858],\n",
       "        [ 0.00324946],\n",
       "        [ 0.05057666],\n",
       "        [-0.42357382],\n",
       "        [-0.03166513],\n",
       "        [-0.22669445],\n",
       "        [ 0.22507465],\n",
       "        [-0.20461048],\n",
       "        [ 0.71252763]], dtype=float32),\n",
       " array([0.12788896], dtype=float32)]"
      ]
     },
     "execution_count": 20,
     "metadata": {},
     "output_type": "execute_result"
    }
   ],
   "source": [
    "model.get_weights()"
   ]
  },
  {
   "cell_type": "code",
   "execution_count": 21,
   "id": "d1d938fd",
   "metadata": {},
   "outputs": [],
   "source": [
    "## Step 2: Helper function to decode reviews\n",
    "# Function to decode reviews from sequences of integers\n",
    "\n",
    "def decode_review(encoded_review):\n",
    "    return ' '.join([reverse_word_index.get(i - 3, '?') for i in encoded_review])\n",
    "\n",
    "# Function to preprocess user input/ review\n",
    "def preprocess_text(text):\n",
    "    words = text.lower().split()\n",
    "    encoded_review = [word_index.get(word, 2) + 3 for word in words]\n",
    "    padded_review = sequence.pad_sequences([encoded_review], maxlen=500)\n",
    "    return padded_review"
   ]
  },
  {
   "cell_type": "code",
   "execution_count": 22,
   "id": "4b790117",
   "metadata": {},
   "outputs": [],
   "source": [
    "###Step 3:  Prediction function\n",
    "\n",
    "def predict_sentiment(review):\n",
    "    preprocessed_input = preprocess_text(review)\n",
    "\n",
    "    prediction = model.predict(preprocessed_input)\n",
    "\n",
    "    sentiment = 'Positive' if prediction[0][0] > 0.5 else 'Negative'\n",
    "\n",
    "    return sentiment, prediction[0][0]"
   ]
  },
  {
   "cell_type": "code",
   "execution_count": 27,
   "id": "c4420545",
   "metadata": {},
   "outputs": [
    {
     "name": "stdout",
     "output_type": "stream",
     "text": [
      "\u001b[1m1/1\u001b[0m \u001b[32m━━━━━━━━━━━━━━━━━━━━\u001b[0m\u001b[37m\u001b[0m \u001b[1m0s\u001b[0m 37ms/step\n",
      "Review: This movie was fantastic! It was good experience. I loved it at all.\n",
      "Sentiment: Positive\n",
      "Score: 0.9287985563278198\n"
     ]
    }
   ],
   "source": [
    "# Step 4 : User Input and prediction \n",
    "# Example review for prediction \n",
    "example_review = \"This movie was fantastic! It was good experience. I loved it at all.\"\n",
    "\n",
    "sentiment,score= predict_sentiment(example_review)\n",
    "\n",
    "print(f'Review: {example_review}')\n",
    "print(f'Sentiment: {sentiment}')\n",
    "print(f'Score: {score}')"
   ]
  },
  {
   "cell_type": "code",
   "execution_count": null,
   "id": "55e1f055",
   "metadata": {},
   "outputs": [],
   "source": []
  }
 ],
 "metadata": {
  "kernelspec": {
   "display_name": "myenv",
   "language": "python",
   "name": "python3"
  },
  "language_info": {
   "codemirror_mode": {
    "name": "ipython",
    "version": 3
   },
   "file_extension": ".py",
   "mimetype": "text/x-python",
   "name": "python",
   "nbconvert_exporter": "python",
   "pygments_lexer": "ipython3",
   "version": "3.10.11"
  }
 },
 "nbformat": 4,
 "nbformat_minor": 5
}
